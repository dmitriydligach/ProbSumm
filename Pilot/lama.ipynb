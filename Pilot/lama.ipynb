{
 "cells": [
  {
   "cell_type": "code",
   "execution_count": null,
   "id": "1328f159-6bad-41a9-a1db-48fb13471c61",
   "metadata": {},
   "outputs": [],
   "source": [
    "import transformers, torch\n",
    "from transformers import AutoTokenizer, AutoModelForCausalLM\n",
    "from time import time\n",
    "\n",
    "model_path = 'Models/Llama-2-70b-chat-hf'\n",
    "system_prompt = 'You are a helpful AI assistant. You always give precise and short answers.'\n",
    "start = time()\n",
    "\n",
    "tokenizer = AutoTokenizer.from_pretrained(model_path)\n",
    "model = AutoModelForCausalLM.from_pretrained(\n",
    "  model_path, \n",
    "  device_map='auto',\n",
    "  load_in_4bit=True)\n",
    "pipeline = transformers.pipeline(\n",
    "  'text-generation',\n",
    "  model=model,\n",
    "  tokenizer=tokenizer,\n",
    "  torch_dtype=torch.float16,\n",
    "  device_map='auto')\n",
    "\n",
    "end = time()\n",
    "print(f'\\n[model load time: {end-start} seconds]\\n')\n",
    "\n",
    "while(True):\n",
    "  user_message = input('Prompt:')\n",
    "  prompt = f'<s>[INST] <<SYS>>\\n{system_prompt}\\n<</SYS>>\\n\\n\\n{user_message} [/INST]\\n\\n'  \n",
    "  start = time()\n",
    "    \n",
    "  outputs = pipeline(\n",
    "    prompt,\n",
    "    do_sample=True,\n",
    "    top_k=10,\n",
    "    num_return_sequences=1,\n",
    "    eos_token_id=tokenizer.eos_token_id,\n",
    "    max_length=500)\n",
    "\n",
    "  end = time()\n",
    "  for output in outputs:\n",
    "    print('\\n[***** begin generated text *****]\\n')\n",
    "    print(output['generated_text'])\n",
    "    print('\\n[***** End generated text *****]\\n')\n",
    "\n",
    "  print(f'[inference time: {end-start} seconds]\\n')"
   ]
  }
 ],
 "metadata": {
  "kernelspec": {
   "display_name": "Python 3 (ipykernel)",
   "language": "python",
   "name": "python3"
  },
  "language_info": {
   "codemirror_mode": {
    "name": "ipython",
    "version": 3
   },
   "file_extension": ".py",
   "mimetype": "text/x-python",
   "name": "python",
   "nbconvert_exporter": "python",
   "pygments_lexer": "ipython3",
   "version": "3.8.16"
  }
 },
 "nbformat": 4,
 "nbformat_minor": 5
}
